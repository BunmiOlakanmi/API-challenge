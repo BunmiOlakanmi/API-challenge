{
 "cells": [
  {
   "cell_type": "markdown",
   "metadata": {},
   "source": [
    "# WeatherPy\n",
    "----\n",
    "\n",
    "#### Note\n",
    "* Instructions have been included for each segment. You do not have to follow them exactly, but they are included to help you think through the steps."
   ]
  },
  {
   "cell_type": "code",
   "execution_count": 43,
   "metadata": {
    "scrolled": true
   },
   "outputs": [],
   "source": [
    "# Dependencies and Setup\n",
    "import matplotlib.pyplot as plt\n",
    "import pandas as pd\n",
    "import numpy as np\n",
    "import requests\n",
    "import time\n",
    "import json \n",
    "from scipy.stats import linregress\n",
    "\n",
    "# Import API key\n",
    "from api_keys import weather_api_key\n",
    "\n",
    "# Incorporated citipy to determine city based on latitude and longitude\n",
    "from citipy import citipy\n",
    "\n",
    "# Output File (CSV)\n",
    "output_data_file = \"output_data/cities.csv\"\n",
    "\n",
    "# Range of latitudes and longitudes\n",
    "lat_range = (-90, 90)\n",
    "lng_range = (-180, 180)"
   ]
  },
  {
   "cell_type": "code",
   "execution_count": 44,
   "metadata": {},
   "outputs": [],
   "source": [
    "## Generate Cities List"
   ]
  },
  {
   "cell_type": "code",
   "execution_count": 45,
   "metadata": {},
   "outputs": [
    {
     "data": {
      "text/plain": [
       "['hithadhoo',\n",
       " 'cobija',\n",
       " 'verkhoyansk',\n",
       " 'qaanaaq',\n",
       " 'yelabuga',\n",
       " 'ankang',\n",
       " 'okha',\n",
       " 'hobart',\n",
       " 'saint george',\n",
       " 'hasaki',\n",
       " 'iqaluit',\n",
       " 'mataura',\n",
       " 'saint-francois',\n",
       " 'trindade',\n",
       " 'upernavik',\n",
       " 'nikolskoye',\n",
       " 'tayoltita',\n",
       " 'illoqqortoormiut',\n",
       " 'guajara',\n",
       " 'general pico',\n",
       " 'east london',\n",
       " 'mount gambier',\n",
       " 'marcona',\n",
       " 'georgetown',\n",
       " 'buluang',\n",
       " 'belushya guba',\n",
       " 'arraial do cabo',\n",
       " 'dasoguz',\n",
       " 'rikitea',\n",
       " 'mar del plata',\n",
       " 'tiarei',\n",
       " 'salisbury',\n",
       " 'coos bay',\n",
       " 'montepuez',\n",
       " 'raudeberg',\n",
       " 'puerto ayora',\n",
       " 'eyl',\n",
       " 'trincomalee',\n",
       " 'taolanaro',\n",
       " 'lata',\n",
       " 'touros',\n",
       " 'tocopilla',\n",
       " 'shelomi',\n",
       " 'punta arenas',\n",
       " 'gweta',\n",
       " 'baijiantan',\n",
       " 'butaritari',\n",
       " 'touho',\n",
       " 'port angeles',\n",
       " 'thompson',\n",
       " 'alta floresta',\n",
       " 'manuk mangkaw',\n",
       " 'hilo',\n",
       " 'port blair',\n",
       " 'sechura',\n",
       " 'junin',\n",
       " 'ahipara',\n",
       " 'jamestown',\n",
       " 'bluff',\n",
       " 'victoria',\n",
       " 'albany',\n",
       " 'marsh harbour',\n",
       " 'port alfred',\n",
       " 'paptalaya',\n",
       " 'ilesha',\n",
       " 'tasiilaq',\n",
       " 'aksarka',\n",
       " 'akdepe',\n",
       " 'puerto leguizamo',\n",
       " 'nizhneyansk',\n",
       " 'paytug',\n",
       " 'okhotsk',\n",
       " 'caconda',\n",
       " 'vila velha',\n",
       " 'vila franca do campo',\n",
       " 'pangnirtung',\n",
       " 'nome',\n",
       " 'honolulu',\n",
       " 'pemba',\n",
       " 'camocim',\n",
       " 'olafsvik',\n",
       " 'chochola',\n",
       " 'saldanha',\n",
       " 'rio gallegos',\n",
       " 'namibe',\n",
       " 'hakui',\n",
       " 'broome',\n",
       " 'salaga',\n",
       " 'miles city',\n",
       " 'ribeira do pombal',\n",
       " 'busselton',\n",
       " 'isiolo',\n",
       " 'ushuaia',\n",
       " 'ouranopolis',\n",
       " 'bonthe',\n",
       " 'volosovo',\n",
       " 'cherskiy',\n",
       " 'berlevag',\n",
       " 'lolua',\n",
       " 'guarapari',\n",
       " 'kremenki',\n",
       " 'tezpur',\n",
       " 'cidreira',\n",
       " 'buraydah',\n",
       " 'castro',\n",
       " 'saskylakh',\n",
       " 'clyde river',\n",
       " 'lagoa',\n",
       " 'houma',\n",
       " 'beringovskiy',\n",
       " 'bargal',\n",
       " 'padang',\n",
       " 'esperance',\n",
       " 'anahuac',\n",
       " 'shubarkuduk',\n",
       " 'lazaro cardenas',\n",
       " 'manokwari',\n",
       " 'mys shmidta',\n",
       " 'liwale',\n",
       " 'kapaa',\n",
       " 'saint-philippe',\n",
       " 'kandrian',\n",
       " 'alekseyevskaya',\n",
       " 'guozhen',\n",
       " 'yellowknife',\n",
       " 'yulara',\n",
       " 'usinsk',\n",
       " 'avarua',\n",
       " 'ribeira grande',\n",
       " 'cape town',\n",
       " 'tuatapere',\n",
       " 'hermanus',\n",
       " 'jiaonan',\n",
       " 'truth or consequences',\n",
       " 'ostersund',\n",
       " 'kavieng',\n",
       " 'kinablangan',\n",
       " 'porto novo',\n",
       " 'vaini',\n",
       " 'cayenne',\n",
       " 'fairbanks',\n",
       " 'gorno-chuyskiy',\n",
       " 'palmer',\n",
       " 'ambilobe',\n",
       " 'pisco',\n",
       " 'abu dhabi',\n",
       " 'santa fe',\n",
       " 'isangel',\n",
       " 'mantua',\n",
       " 'colares',\n",
       " 'sao filipe',\n",
       " 'comodoro rivadavia',\n",
       " 'kodiak',\n",
       " 'new norfolk',\n",
       " 'longyearbyen',\n",
       " 'amderma',\n",
       " 'ambon',\n",
       " 'flinders',\n",
       " 'chokurdakh',\n",
       " 'contamana',\n",
       " 'jingdezhen',\n",
       " 'rochester',\n",
       " 'klaksvik',\n",
       " 'kulhudhuffushi',\n",
       " 'constitucion',\n",
       " 'pacific grove',\n",
       " 'kalmunai',\n",
       " 'tsihombe',\n",
       " 'kabalo',\n",
       " 'uray',\n",
       " 'san cristobal',\n",
       " 'lenger',\n",
       " 'rawannawi',\n",
       " 'barrow',\n",
       " 'pevek',\n",
       " 'ca mau',\n",
       " 'poum',\n",
       " 'gornyy',\n",
       " 'provideniya',\n",
       " 'kerman',\n",
       " 'ahuimanu',\n",
       " 'batemans bay',\n",
       " 'cabo san lucas',\n",
       " 'attawapiskat',\n",
       " 'guane',\n",
       " 'hofn',\n",
       " 'linares',\n",
       " 'narsaq',\n",
       " 'hudson bay',\n",
       " 'bathsheba',\n",
       " 'yirol',\n",
       " 'lufilufi',\n",
       " 'san quintin',\n",
       " 'norman wells',\n",
       " 'khatanga',\n",
       " 'ponta do sol',\n",
       " 'naze',\n",
       " 'nivala',\n",
       " 'teya',\n",
       " 'hamilton',\n",
       " 'carnarvon',\n",
       " 'ler',\n",
       " 'fortuna',\n",
       " 'port elizabeth',\n",
       " 'kasongo',\n",
       " 'katsuura',\n",
       " 'elat',\n",
       " 'atuona',\n",
       " 'harper',\n",
       " 'roald',\n",
       " 'leningradskiy',\n",
       " 'mahebourg',\n",
       " 'whitehorse',\n",
       " 'saint-joseph',\n",
       " 'san juan',\n",
       " 'evensk',\n",
       " 'rio brilhante',\n",
       " 'komsomolskiy',\n",
       " 'coquimbo',\n",
       " 'bambanglipuro',\n",
       " 'chara',\n",
       " 'apollonia',\n",
       " 'port lincoln',\n",
       " 'alice springs',\n",
       " 'half moon bay',\n",
       " 'meyungs',\n",
       " 'assiniboia',\n",
       " 'lompoc',\n",
       " 'yar-sale',\n",
       " 'batagay',\n",
       " 'geraldton',\n",
       " 'tuktoyaktuk',\n",
       " 'mgachi',\n",
       " 'ilmajoki',\n",
       " 'fukue',\n",
       " 'katherine',\n",
       " 'bredasdorp',\n",
       " 'rungata',\n",
       " 'wilmington island',\n",
       " 'hammerfest',\n",
       " 'belmonte',\n",
       " 'puchezh',\n",
       " 'erzin',\n",
       " 'kamenskoye',\n",
       " 'airai',\n",
       " 'ust-kut',\n",
       " 'sao jose da coroa grande',\n",
       " 'formosa',\n",
       " 'jacareacanga',\n",
       " 'wahiawa',\n",
       " 'urumqi',\n",
       " 'bagdarin',\n",
       " 'santa cruz',\n",
       " 'santa cruz del norte',\n",
       " 'denpasar',\n",
       " 'noyabrsk',\n",
       " 'gat',\n",
       " 'labytnangi',\n",
       " 'acapulco',\n",
       " 'quthing',\n",
       " 'faya',\n",
       " 'goderich',\n",
       " 'gamba',\n",
       " 'novyy urengoy',\n",
       " 'camana',\n",
       " 'verkhnyaya toyma',\n",
       " 'teguise',\n",
       " 'vardo',\n",
       " 'cockburn town',\n",
       " 'ola',\n",
       " 'karratha',\n",
       " 'roma',\n",
       " 'bambous virieux',\n",
       " 'beruni',\n",
       " 'mehamn',\n",
       " 'jizan',\n",
       " 'bethel',\n",
       " 'sorong',\n",
       " 'randfontein',\n",
       " 'wesselsbron',\n",
       " 'port-gentil',\n",
       " 'saleaula',\n",
       " 'topeka',\n",
       " 'san patricio',\n",
       " 'baykit',\n",
       " 'gornoye loo',\n",
       " 'antalaha',\n",
       " 'kayankulam',\n",
       " 'camacupa',\n",
       " 'sentyabrskiy',\n",
       " 'kruisfontein',\n",
       " 'locri',\n",
       " 'benemerito de las americas',\n",
       " 'guerrero negro',\n",
       " 'eydhafushi',\n",
       " 'forrest city',\n",
       " 'mykhaylivka',\n",
       " 'marsala',\n",
       " 'sorland',\n",
       " 'bialystok',\n",
       " 'mitsamiouli',\n",
       " 'china',\n",
       " 'dhidhdhoo',\n",
       " 'la ronge',\n",
       " 'neuquen',\n",
       " 'kahului',\n",
       " 'northam',\n",
       " 'chagda',\n",
       " 'faanui',\n",
       " 'sao joao da barra',\n",
       " 'mabaruma',\n",
       " 'sumisip',\n",
       " 'puerto ayacucho',\n",
       " 'marsaxlokk',\n",
       " 'medea',\n",
       " 'bilibino',\n",
       " 'kaeo',\n",
       " 'lesozavodsk',\n",
       " 'bima',\n",
       " 'marzuq',\n",
       " 'barstow',\n",
       " 'vaitupu',\n",
       " 'samarai',\n",
       " 'port moresby',\n",
       " 'souillac',\n",
       " 'lavrentiya',\n",
       " 'svetlaya',\n",
       " 'pierre',\n",
       " 'tukrah',\n",
       " 'kaitangata',\n",
       " 'khorixas',\n",
       " 'pleasanton',\n",
       " 'amapa',\n",
       " 'itupiranga',\n",
       " 'bengkulu',\n",
       " 'west bay',\n",
       " 'raga',\n",
       " 'ilulissat',\n",
       " 'sur',\n",
       " 'tessalit',\n",
       " 'sinnamary',\n",
       " 'plouzane',\n",
       " 'luena',\n",
       " 'lamu',\n",
       " 'lasa',\n",
       " 'linqiong',\n",
       " 'togur',\n",
       " 'bac lieu',\n",
       " 'hirado',\n",
       " 'shatalovo',\n",
       " 'dingle',\n",
       " 'deputatskiy',\n",
       " 'guasdualito',\n",
       " 'mana',\n",
       " 'kudahuvadhoo',\n",
       " 'mokhsogollokh',\n",
       " 'varna',\n",
       " 'vasilyevskiy mokh',\n",
       " 'lorengau',\n",
       " 'chernyshevskiy',\n",
       " 'juiz de fora',\n",
       " 'manuel doblado',\n",
       " 'senador guiomard',\n",
       " 'krasnyy chikoy',\n",
       " 'grand centre',\n",
       " 'ustyuzhna',\n",
       " 'tumannyy',\n",
       " 'naguabo',\n",
       " 'hearst',\n",
       " 'cairns',\n",
       " 'dakar',\n",
       " 'vaitape',\n",
       " 'luderitz',\n",
       " 'sabang',\n",
       " 'severobaykalsk',\n",
       " 'wah',\n",
       " 'lebu',\n",
       " 'havelock',\n",
       " 'la paz',\n",
       " 'natalinsk',\n",
       " 'muros',\n",
       " 'jaca',\n",
       " 'bedesa',\n",
       " 'yerbogachen',\n",
       " 'karaul',\n",
       " 'pradera',\n",
       " 'tautira',\n",
       " 'bolshegrivskoye',\n",
       " 'altay',\n",
       " 'daru',\n",
       " 'tura',\n",
       " 'port macquarie',\n",
       " 'marv dasht',\n",
       " 'tolaga bay',\n",
       " 'dikson',\n",
       " 'shelburne',\n",
       " 'chuy',\n",
       " 'oum hadjer',\n",
       " 'te anau',\n",
       " 'khani',\n",
       " 'iquique',\n",
       " 'maniitsoq',\n",
       " 'anamur',\n",
       " 'bukama',\n",
       " 'simao',\n",
       " 'qasigiannguit',\n",
       " 'barentsburg',\n",
       " 'horta',\n",
       " 'namie',\n",
       " 'oranjemund',\n",
       " 'petrokamenskoye',\n",
       " 'marienburg',\n",
       " 'san policarpo',\n",
       " 'svetlogorsk',\n",
       " 'haines junction',\n",
       " 'casino',\n",
       " 'cam ranh',\n",
       " 'kasama',\n",
       " 'praia',\n",
       " 'marsa matruh',\n",
       " 'aboso',\n",
       " 'richards bay',\n",
       " 'umm kaddadah',\n",
       " 'victor harbor',\n",
       " 'korla',\n",
       " 'ketchikan',\n",
       " 'baikunthpur',\n",
       " 'palmito',\n",
       " 'bur gabo',\n",
       " 'todos santos',\n",
       " 'nanortalik',\n",
       " 'nipawin',\n",
       " 'portland',\n",
       " 'abonnema',\n",
       " 'arona',\n",
       " 'taywarah',\n",
       " 'varzob',\n",
       " 'kysyl-syr',\n",
       " 'porto santo',\n",
       " 'soyo',\n",
       " 'sept-iles',\n",
       " 'louisbourg',\n",
       " 'dickinson',\n",
       " 'vestmannaeyjar',\n",
       " 'salta',\n",
       " 'mhlume',\n",
       " 'santander',\n",
       " 'anloga',\n",
       " 'sao desiderio',\n",
       " 'staryy nadym',\n",
       " 'turbat',\n",
       " 'pyaozerskiy',\n",
       " 'walvis bay',\n",
       " 'shaunavon',\n",
       " 'erenhot',\n",
       " 'brigham city',\n",
       " 'saint-georges',\n",
       " 'ko samui',\n",
       " 'ukiah',\n",
       " 'kamina',\n",
       " 'necochea',\n",
       " 'vanavara',\n",
       " 'kirakira',\n",
       " 'makakilo city',\n",
       " 'codrington',\n",
       " 'beyneu',\n",
       " 'sitka',\n",
       " 'menongue',\n",
       " 'kuala terengganu',\n",
       " 'mogadishu',\n",
       " 'kyren',\n",
       " 'khilok',\n",
       " 'alyangula',\n",
       " 'sicuani',\n",
       " 'meybod',\n",
       " 'nuuk',\n",
       " 'hami',\n",
       " 'grindavik',\n",
       " 'san pedro',\n",
       " 'aykhal',\n",
       " 'kantilo',\n",
       " 'tigil',\n",
       " 'solnechnyy',\n",
       " 'papasquiaro',\n",
       " 'koulikoro',\n",
       " 'tiksi',\n",
       " 'husavik',\n",
       " 'machali',\n",
       " 'eldorado',\n",
       " 'krasnoselkup',\n",
       " 'doha',\n",
       " 'yanchukan',\n",
       " 'urengoy',\n",
       " 'grand river south east',\n",
       " 'palauig',\n",
       " 'andra',\n",
       " 'payo',\n",
       " 'shagonar',\n",
       " 'taoudenni',\n",
       " 'college',\n",
       " 'qandala',\n",
       " 'juneau',\n",
       " 'copiapo',\n",
       " 'zhigansk',\n",
       " 'keti bandar',\n",
       " 'vao',\n",
       " 'zhuhai',\n",
       " 'gua musang',\n",
       " 'de aar',\n",
       " 'ancud',\n",
       " 'ostrovnoy',\n",
       " 'cuencame',\n",
       " 'pijijiapan',\n",
       " 'invermere',\n",
       " 'henties bay',\n",
       " 'severo-kurilsk',\n",
       " 'tezu',\n",
       " 'potsdam',\n",
       " 'timizart',\n",
       " 'kyshtovka',\n",
       " 'gondanglegi',\n",
       " 'north bend',\n",
       " 'madera',\n",
       " 'samalaeulu',\n",
       " 'hitoyoshi',\n",
       " 'trebinje',\n",
       " 'barcelos',\n",
       " 'sioux lookout',\n",
       " 'snezhnogorsk',\n",
       " 'taltal',\n",
       " 'sri aman',\n",
       " 'ust-tsilma',\n",
       " 'jiuquan',\n",
       " 'moroni',\n",
       " 'caravelas',\n",
       " 'grand gaube',\n",
       " 'cerrito',\n",
       " 'asau',\n",
       " 'salalah',\n",
       " 'itarema',\n",
       " 'matay',\n",
       " 'shingu',\n",
       " 'chapais',\n",
       " 'surt',\n",
       " 'waipawa',\n",
       " 'sorsk',\n",
       " 'correntina',\n",
       " 'mangan',\n",
       " 'paramirim',\n",
       " 'noumea',\n",
       " 'viedma',\n",
       " 'sokolo',\n",
       " 'atsiki',\n",
       " 'barentu',\n",
       " 'voi',\n",
       " 'torbay',\n",
       " 'tuyen quang',\n",
       " 'sibu',\n",
       " 'port hardy',\n",
       " 'chicama',\n",
       " 'belyy yar',\n",
       " 'norden',\n",
       " 'butka',\n",
       " 'alofi',\n",
       " 'son tay',\n",
       " 'hovd',\n",
       " 'ugoofaaru',\n",
       " 'olga',\n",
       " 'tunceli',\n",
       " 'jega',\n",
       " 'nador',\n",
       " 'damietta',\n",
       " 'santiago',\n",
       " 'obuasi',\n",
       " 'gushikawa',\n",
       " 'starkville',\n",
       " 'chapadinha',\n",
       " 'moranbah',\n",
       " 'tayu',\n",
       " 'verkhnyaya inta',\n",
       " 'birao',\n",
       " 'dolbeau',\n",
       " 'taunggyi',\n",
       " 'yantal',\n",
       " 'jining',\n",
       " 'krasnoturansk',\n",
       " 'gubkinskiy',\n",
       " 'olhao',\n",
       " 'natal',\n",
       " 'eskisehir',\n",
       " 'halifax',\n",
       " 'makat',\n",
       " 'hambantota',\n",
       " 'jumla',\n",
       " 'ocampo',\n",
       " 'rincon',\n",
       " 'george',\n",
       " 'fredericksburg',\n",
       " 'goma',\n",
       " 'sayyan',\n",
       " 'srednekolymsk',\n",
       " 'ardatov',\n",
       " 'abu kamal',\n",
       " 'paita',\n",
       " 'grimshaw',\n",
       " 'rio blanco',\n",
       " 'los llanos de aridane',\n",
       " 'brookings',\n",
       " 'mocambique',\n",
       " 'macklin',\n",
       " 'kropotkin',\n",
       " 'longlac']"
      ]
     },
     "execution_count": 45,
     "metadata": {},
     "output_type": "execute_result"
    }
   ],
   "source": [
    "# List for holding lat_lngs and cities\n",
    "lat_lngs = []\n",
    "cities = []\n",
    "\n",
    "# Create a set of random lat and lng combinations\n",
    "lats = np.random.uniform(lat_range[0], lat_range[1], size=1500)\n",
    "lngs = np.random.uniform(lng_range[0], lng_range[1], size=1500)\n",
    "lat_lngs = zip(lats, lngs)\n",
    "\n",
    "# Identify nearest city for each lat, lng combination\n",
    "for lat_lng in lat_lngs:\n",
    "    city = citipy.nearest_city(lat_lng[0], lat_lng[1]).city_name\n",
    "    \n",
    "    # If the city is unique, then add it to a our cities list\n",
    "    if city not in cities:\n",
    "        cities.append(city)\n",
    "\n",
    "# Print the city count to confirm sufficient count\n",
    "len(cities)\n",
    "cities\n",
    "#print(lat_lngs)"
   ]
  },
  {
   "cell_type": "markdown",
   "metadata": {},
   "source": [
    "### Perform API Calls\n",
    "* Perform a weather check on each city using a series of successive API calls.\n",
    "* Include a print log of each city as it'sbeing processed (with the city number and city name).\n"
   ]
  },
  {
   "cell_type": "code",
   "execution_count": 7,
   "metadata": {},
   "outputs": [
    {
     "data": {
      "text/plain": [
       "{'coord': {'lon': -86.18, 'lat': 39.45},\n",
       " 'weather': [{'id': 800,\n",
       "   'main': 'Clear',\n",
       "   'description': 'clear sky',\n",
       "   'icon': '01n'}],\n",
       " 'base': 'stations',\n",
       " 'main': {'temp': 10.6,\n",
       "  'feels_like': 7.53,\n",
       "  'temp_min': 10,\n",
       "  'temp_max': 11.67,\n",
       "  'pressure': 1023,\n",
       "  'humidity': 57},\n",
       " 'visibility': 10000,\n",
       " 'wind': {'speed': 2.1, 'deg': 170},\n",
       " 'clouds': {'all': 1},\n",
       " 'dt': 1604460218,\n",
       " 'sys': {'type': 1,\n",
       "  'id': 4345,\n",
       "  'country': 'US',\n",
       "  'sunrise': 1604405738,\n",
       "  'sunset': 1604443252},\n",
       " 'timezone': -18000,\n",
       " 'id': 4255151,\n",
       " 'name': 'Bud',\n",
       " 'cod': 200}"
      ]
     },
     "execution_count": 7,
     "metadata": {},
     "output_type": "execute_result"
    }
   ],
   "source": [
    "weather_response"
   ]
  },
  {
   "cell_type": "code",
   "execution_count": 46,
   "metadata": {},
   "outputs": [],
   "source": [
    "# Components of API \n",
    "city_data=[]\n",
    "url = \"http://api.openweathermap.org/data/2.5/weather?\"\n",
    "units = \"metric\"\n",
    "# city = \"bud\"\n",
    "\n",
    "\n",
    "for city in cities:\n",
    "    try:\n",
    "        query_url = f\"{url}&appid={weather_api_key}&units={units}&q={city}\"\n",
    "        weather_response = requests.get(query_url).json()\n",
    "        city_humidity=weather_response[\"main\"][\"humidity\"]\n",
    "        city_temp = weather_response[\"main\"][\"temp\"]\n",
    "        city_Maxtemp = weather_response[\"main\"][\"temp_max\"]\n",
    "        city_lat = weather_response[\"coord\"][\"lat\"]\n",
    "        city_wind = weather_response[\"wind\"][\"speed\"]\n",
    "        city_cloud = weather_response[\"clouds\"][\"all\"]\n",
    "        city_country = weather_response[\"sys\"][\"country\"]\n",
    "        city_datetime = weather_response[\"dt\"]\n",
    "        city_data.append ({\"City\":city,\n",
    "                           \"Country\": city_country,\n",
    "                           \"DateTime\":city_datetime,\n",
    "                           \"Humidity\": city_humidity,\n",
    "                           \"Temperature\": city_temp,\n",
    "                           \"Max. Temp.\":  city_Maxtemp,\n",
    "                           \"Latitude\": city_lat,\n",
    "                           \"WindSpeed\": city_wind,\n",
    "                           \"Cloudiness\": city_cloud  \n",
    "                     })\n",
    "        #print(city_data)\n",
    "        #print(f\"{city} has humidity {city_humidity} and temperature {city_temp}\")\n",
    "    except:\n",
    "        #print(\"City doesnot exist\")\n",
    "        pass\n",
    "    \n",
    "    #print(weather_api_key)"
   ]
  },
  {
   "cell_type": "code",
   "execution_count": 48,
   "metadata": {
    "scrolled": true
   },
   "outputs": [
    {
     "data": {
      "text/html": [
       "<div>\n",
       "<style scoped>\n",
       "    .dataframe tbody tr th:only-of-type {\n",
       "        vertical-align: middle;\n",
       "    }\n",
       "\n",
       "    .dataframe tbody tr th {\n",
       "        vertical-align: top;\n",
       "    }\n",
       "\n",
       "    .dataframe thead th {\n",
       "        text-align: right;\n",
       "    }\n",
       "</style>\n",
       "<table border=\"1\" class=\"dataframe\">\n",
       "  <thead>\n",
       "    <tr style=\"text-align: right;\">\n",
       "      <th></th>\n",
       "      <th>City</th>\n",
       "      <th>Country</th>\n",
       "      <th>DateTime</th>\n",
       "      <th>Humidity</th>\n",
       "      <th>Temperature</th>\n",
       "      <th>Max. Temp.</th>\n",
       "      <th>Latitude</th>\n",
       "      <th>WindSpeed</th>\n",
       "      <th>Cloudiness</th>\n",
       "    </tr>\n",
       "  </thead>\n",
       "  <tbody>\n",
       "    <tr>\n",
       "      <th>0</th>\n",
       "      <td>hithadhoo</td>\n",
       "      <td>MV</td>\n",
       "      <td>1604504452</td>\n",
       "      <td>70</td>\n",
       "      <td>28.90</td>\n",
       "      <td>28.90</td>\n",
       "      <td>-0.60</td>\n",
       "      <td>2.66</td>\n",
       "      <td>47</td>\n",
       "    </tr>\n",
       "    <tr>\n",
       "      <th>1</th>\n",
       "      <td>cobija</td>\n",
       "      <td>BO</td>\n",
       "      <td>1604504452</td>\n",
       "      <td>66</td>\n",
       "      <td>30.00</td>\n",
       "      <td>30.00</td>\n",
       "      <td>-11.03</td>\n",
       "      <td>3.10</td>\n",
       "      <td>75</td>\n",
       "    </tr>\n",
       "    <tr>\n",
       "      <th>2</th>\n",
       "      <td>verkhoyansk</td>\n",
       "      <td>RU</td>\n",
       "      <td>1604504452</td>\n",
       "      <td>87</td>\n",
       "      <td>-26.71</td>\n",
       "      <td>-26.71</td>\n",
       "      <td>67.54</td>\n",
       "      <td>0.60</td>\n",
       "      <td>99</td>\n",
       "    </tr>\n",
       "    <tr>\n",
       "      <th>3</th>\n",
       "      <td>qaanaaq</td>\n",
       "      <td>GL</td>\n",
       "      <td>1604504452</td>\n",
       "      <td>86</td>\n",
       "      <td>-19.18</td>\n",
       "      <td>-19.18</td>\n",
       "      <td>77.48</td>\n",
       "      <td>0.83</td>\n",
       "      <td>91</td>\n",
       "    </tr>\n",
       "    <tr>\n",
       "      <th>4</th>\n",
       "      <td>yelabuga</td>\n",
       "      <td>RU</td>\n",
       "      <td>1604504453</td>\n",
       "      <td>86</td>\n",
       "      <td>0.00</td>\n",
       "      <td>0.00</td>\n",
       "      <td>55.76</td>\n",
       "      <td>4.00</td>\n",
       "      <td>90</td>\n",
       "    </tr>\n",
       "    <tr>\n",
       "      <th>...</th>\n",
       "      <td>...</td>\n",
       "      <td>...</td>\n",
       "      <td>...</td>\n",
       "      <td>...</td>\n",
       "      <td>...</td>\n",
       "      <td>...</td>\n",
       "      <td>...</td>\n",
       "      <td>...</td>\n",
       "      <td>...</td>\n",
       "    </tr>\n",
       "    <tr>\n",
       "      <th>566</th>\n",
       "      <td>rio blanco</td>\n",
       "      <td>MX</td>\n",
       "      <td>1604504574</td>\n",
       "      <td>38</td>\n",
       "      <td>19.23</td>\n",
       "      <td>19.23</td>\n",
       "      <td>18.83</td>\n",
       "      <td>3.07</td>\n",
       "      <td>68</td>\n",
       "    </tr>\n",
       "    <tr>\n",
       "      <th>567</th>\n",
       "      <td>los llanos de aridane</td>\n",
       "      <td>ES</td>\n",
       "      <td>1604504574</td>\n",
       "      <td>82</td>\n",
       "      <td>18.64</td>\n",
       "      <td>20.00</td>\n",
       "      <td>28.66</td>\n",
       "      <td>8.70</td>\n",
       "      <td>75</td>\n",
       "    </tr>\n",
       "    <tr>\n",
       "      <th>568</th>\n",
       "      <td>brookings</td>\n",
       "      <td>US</td>\n",
       "      <td>1604504486</td>\n",
       "      <td>70</td>\n",
       "      <td>7.72</td>\n",
       "      <td>9.00</td>\n",
       "      <td>44.31</td>\n",
       "      <td>2.10</td>\n",
       "      <td>1</td>\n",
       "    </tr>\n",
       "    <tr>\n",
       "      <th>569</th>\n",
       "      <td>macklin</td>\n",
       "      <td>CA</td>\n",
       "      <td>1604504575</td>\n",
       "      <td>80</td>\n",
       "      <td>-1.00</td>\n",
       "      <td>-1.00</td>\n",
       "      <td>52.33</td>\n",
       "      <td>2.60</td>\n",
       "      <td>41</td>\n",
       "    </tr>\n",
       "    <tr>\n",
       "      <th>570</th>\n",
       "      <td>kropotkin</td>\n",
       "      <td>RU</td>\n",
       "      <td>1604504575</td>\n",
       "      <td>54</td>\n",
       "      <td>13.05</td>\n",
       "      <td>13.05</td>\n",
       "      <td>45.44</td>\n",
       "      <td>5.80</td>\n",
       "      <td>55</td>\n",
       "    </tr>\n",
       "  </tbody>\n",
       "</table>\n",
       "<p>571 rows × 9 columns</p>\n",
       "</div>"
      ],
      "text/plain": [
       "                      City Country    DateTime  Humidity  Temperature  \\\n",
       "0                hithadhoo      MV  1604504452        70        28.90   \n",
       "1                   cobija      BO  1604504452        66        30.00   \n",
       "2              verkhoyansk      RU  1604504452        87       -26.71   \n",
       "3                  qaanaaq      GL  1604504452        86       -19.18   \n",
       "4                 yelabuga      RU  1604504453        86         0.00   \n",
       "..                     ...     ...         ...       ...          ...   \n",
       "566             rio blanco      MX  1604504574        38        19.23   \n",
       "567  los llanos de aridane      ES  1604504574        82        18.64   \n",
       "568              brookings      US  1604504486        70         7.72   \n",
       "569                macklin      CA  1604504575        80        -1.00   \n",
       "570              kropotkin      RU  1604504575        54        13.05   \n",
       "\n",
       "     Max. Temp.  Latitude  WindSpeed  Cloudiness  \n",
       "0         28.90     -0.60       2.66          47  \n",
       "1         30.00    -11.03       3.10          75  \n",
       "2        -26.71     67.54       0.60          99  \n",
       "3        -19.18     77.48       0.83          91  \n",
       "4          0.00     55.76       4.00          90  \n",
       "..          ...       ...        ...         ...  \n",
       "566       19.23     18.83       3.07          68  \n",
       "567       20.00     28.66       8.70          75  \n",
       "568        9.00     44.31       2.10           1  \n",
       "569       -1.00     52.33       2.60          41  \n",
       "570       13.05     45.44       5.80          55  \n",
       "\n",
       "[571 rows x 9 columns]"
      ]
     },
     "execution_count": 48,
     "metadata": {},
     "output_type": "execute_result"
    }
   ],
   "source": [
    "# Convert city_data to DataFrame\n",
    "city_data = pd.DataFrame(city_data)\n",
    "city_data\n",
    "\n",
    "# Export the city data into a .csv \n",
    "city_data.to_csv(\"../output_data/city_data.csv\", encoding=\"utf-8\", index=False)\n",
    "city_data\n",
    "\n",
    "# What is wrong with my data export to csv? No content in the csv file..."
   ]
  },
  {
   "cell_type": "markdown",
   "metadata": {},
   "source": [
    "### Convert Raw Data to DataFrame\n",
    "* Export the city data into a .csv.\n",
    "* Display the DataFrame"
   ]
  },
  {
   "cell_type": "code",
   "execution_count": null,
   "metadata": {},
   "outputs": [],
   "source": []
  },
  {
   "cell_type": "code",
   "execution_count": null,
   "metadata": {},
   "outputs": [],
   "source": []
  },
  {
   "cell_type": "markdown",
   "metadata": {},
   "source": [
    "## Inspect the data and remove the cities where the humidity > 100%.\n",
    "----\n",
    "Skip this step if there are no cities that have humidity > 100%. "
   ]
  },
  {
   "cell_type": "code",
   "execution_count": 87,
   "metadata": {
    "scrolled": true
   },
   "outputs": [
    {
     "data": {
      "text/plain": [
       "571"
      ]
     },
     "execution_count": 87,
     "metadata": {},
     "output_type": "execute_result"
    }
   ],
   "source": [
    "reduced_city_data = city_data.loc[(\n",
    "    city_data[\"Humidity\"] <= 100)]\n",
    "len(reduced_city_data)"
   ]
  },
  {
   "cell_type": "code",
   "execution_count": null,
   "metadata": {},
   "outputs": [],
   "source": [
    "#  Get the indices of cities that have humidity over 100%.\n"
   ]
  },
  {
   "cell_type": "code",
   "execution_count": null,
   "metadata": {},
   "outputs": [],
   "source": [
    "# Make a new DataFrame equal to the city data to drop all humidity outliers by index.\n",
    "# Passing \"inplace=False\" will make a copy of the city_data DataFrame, which we call \"clean_city_data\".\n"
   ]
  },
  {
   "cell_type": "code",
   "execution_count": null,
   "metadata": {},
   "outputs": [],
   "source": [
    "\n"
   ]
  },
  {
   "cell_type": "markdown",
   "metadata": {},
   "source": [
    "## Plotting the Data\n",
    "* Use proper labeling of the plots using plot titles (including date of analysis) and axes labels.\n",
    "* Save the plotted figures as .pngs."
   ]
  },
  {
   "cell_type": "markdown",
   "metadata": {},
   "source": [
    "## Latitude vs. Temperature Plot"
   ]
  },
  {
   "cell_type": "code",
   "execution_count": 50,
   "metadata": {},
   "outputs": [
    {
     "data": {
      "text/plain": [
       "Text(0.5, 0, 'latitude')"
      ]
     },
     "execution_count": 50,
     "metadata": {},
     "output_type": "execute_result"
    },
    {
     "data": {
      "image/png": "[encoded data removed]",
      "text/plain": [
       "<Figure size 432x288 with 1 Axes>"
      ]
     },
     "metadata": {
      "needs_background": "light"
     },
     "output_type": "display_data"
    }
   ],
   "source": [
    "latitude = city_data[\"Latitude\"].tolist()\n",
    "latitude\n",
    "temperature = city_data[\"Temperature\"].tolist()\n",
    "temperature\n",
    "\n",
    "plt.scatter(latitude, temperature)\n",
    "plt.ylabel(\"temperature\")\n",
    "plt.xlabel(\"latitude\")\n",
    "\n",
    "# Are we using max temp or just the temp? \n",
    "# I saw max temp in the sample given in the homework instructions\n",
    "# Do the scatter plots look ok?"
   ]
  },
  {
   "cell_type": "code",
   "execution_count": null,
   "metadata": {
    "scrolled": true
   },
   "outputs": [],
   "source": []
  },
  {
   "cell_type": "markdown",
   "metadata": {},
   "source": [
    "## Latitude vs. Humidity Plot"
   ]
  },
  {
   "cell_type": "code",
   "execution_count": 51,
   "metadata": {},
   "outputs": [
    {
     "data": {
      "text/plain": [
       "Text(0.5, 0, 'Latitude')"
      ]
     },
     "execution_count": 51,
     "metadata": {},
     "output_type": "execute_result"
    },
    {
     "data": {
      "image/png": "[encoded data removed]",
      "text/plain": [
       "<Figure size 432x288 with 1 Axes>"
      ]
     },
     "metadata": {
      "needs_background": "light"
     },
     "output_type": "display_data"
    }
   ],
   "source": [
    "humidity = city_data[\"Humidity\"].tolist()\n",
    "humidity\n",
    "plt.scatter(latitude, humidity)\n",
    "plt.ylabel(\"Humidity\")\n",
    "plt.xlabel(\"Latitude\")"
   ]
  },
  {
   "cell_type": "code",
   "execution_count": null,
   "metadata": {},
   "outputs": [],
   "source": []
  },
  {
   "cell_type": "markdown",
   "metadata": {},
   "source": [
    "## Latitude vs. Cloudiness Plot"
   ]
  },
  {
   "cell_type": "code",
   "execution_count": 52,
   "metadata": {},
   "outputs": [
    {
     "data": {
      "text/plain": [
       "Text(0.5, 0, 'Latitude')"
      ]
     },
     "execution_count": 52,
     "metadata": {},
     "output_type": "execute_result"
    },
    {
     "data": {
      "image/png": "[encoded data removed]",
      "text/plain": [
       "<Figure size 432x288 with 1 Axes>"
      ]
     },
     "metadata": {
      "needs_background": "light"
     },
     "output_type": "display_data"
    }
   ],
   "source": [
    "cloudiness = city_data[\"Cloudiness\"].tolist()\n",
    "cloudiness\n",
    "plt.scatter(latitude, cloudiness)\n",
    "plt.ylabel(\"Cloudiness\")\n",
    "plt.xlabel(\"Latitude\")"
   ]
  },
  {
   "cell_type": "code",
   "execution_count": null,
   "metadata": {},
   "outputs": [],
   "source": []
  },
  {
   "cell_type": "markdown",
   "metadata": {},
   "source": [
    "## Latitude vs. Wind Speed Plot"
   ]
  },
  {
   "cell_type": "code",
   "execution_count": 53,
   "metadata": {},
   "outputs": [
    {
     "data": {
      "text/plain": [
       "Text(0.5, 0, 'Latitude')"
      ]
     },
     "execution_count": 53,
     "metadata": {},
     "output_type": "execute_result"
    },
    {
     "data": {
      "image/png": "[encoded data removed]",
      "text/plain": [
       "<Figure size 432x288 with 1 Axes>"
      ]
     },
     "metadata": {
      "needs_background": "light"
     },
     "output_type": "display_data"
    }
   ],
   "source": [
    "windspeed = city_data[\"WindSpeed\"].tolist()\n",
    "windspeed\n",
    "plt.scatter(latitude, windspeed)\n",
    "plt.ylabel(\"Wind Speed\")\n",
    "plt.xlabel(\"Latitude\")"
   ]
  },
  {
   "cell_type": "markdown",
   "metadata": {},
   "source": [
    "## Linear Regression"
   ]
  },
  {
   "cell_type": "code",
   "execution_count": 57,
   "metadata": {},
   "outputs": [
    {
     "data": {
      "text/html": [
       "<div>\n",
       "<style scoped>\n",
       "    .dataframe tbody tr th:only-of-type {\n",
       "        vertical-align: middle;\n",
       "    }\n",
       "\n",
       "    .dataframe tbody tr th {\n",
       "        vertical-align: top;\n",
       "    }\n",
       "\n",
       "    .dataframe thead th {\n",
       "        text-align: right;\n",
       "    }\n",
       "</style>\n",
       "<table border=\"1\" class=\"dataframe\">\n",
       "  <thead>\n",
       "    <tr style=\"text-align: right;\">\n",
       "      <th></th>\n",
       "      <th>City</th>\n",
       "      <th>Country</th>\n",
       "      <th>DateTime</th>\n",
       "      <th>Humidity</th>\n",
       "      <th>Temperature</th>\n",
       "      <th>Max. Temp.</th>\n",
       "      <th>Latitude</th>\n",
       "      <th>WindSpeed</th>\n",
       "      <th>Cloudiness</th>\n",
       "    </tr>\n",
       "  </thead>\n",
       "  <tbody>\n",
       "    <tr>\n",
       "      <th>2</th>\n",
       "      <td>verkhoyansk</td>\n",
       "      <td>RU</td>\n",
       "      <td>1604504452</td>\n",
       "      <td>87</td>\n",
       "      <td>-26.71</td>\n",
       "      <td>-26.71</td>\n",
       "      <td>67.54</td>\n",
       "      <td>0.60</td>\n",
       "      <td>99</td>\n",
       "    </tr>\n",
       "    <tr>\n",
       "      <th>3</th>\n",
       "      <td>qaanaaq</td>\n",
       "      <td>GL</td>\n",
       "      <td>1604504452</td>\n",
       "      <td>86</td>\n",
       "      <td>-19.18</td>\n",
       "      <td>-19.18</td>\n",
       "      <td>77.48</td>\n",
       "      <td>0.83</td>\n",
       "      <td>91</td>\n",
       "    </tr>\n",
       "    <tr>\n",
       "      <th>4</th>\n",
       "      <td>yelabuga</td>\n",
       "      <td>RU</td>\n",
       "      <td>1604504453</td>\n",
       "      <td>86</td>\n",
       "      <td>0.00</td>\n",
       "      <td>0.00</td>\n",
       "      <td>55.76</td>\n",
       "      <td>4.00</td>\n",
       "      <td>90</td>\n",
       "    </tr>\n",
       "    <tr>\n",
       "      <th>5</th>\n",
       "      <td>ankang</td>\n",
       "      <td>CN</td>\n",
       "      <td>1604504453</td>\n",
       "      <td>33</td>\n",
       "      <td>17.78</td>\n",
       "      <td>17.78</td>\n",
       "      <td>32.68</td>\n",
       "      <td>0.97</td>\n",
       "      <td>100</td>\n",
       "    </tr>\n",
       "    <tr>\n",
       "      <th>6</th>\n",
       "      <td>okha</td>\n",
       "      <td>RU</td>\n",
       "      <td>1604504453</td>\n",
       "      <td>97</td>\n",
       "      <td>-2.31</td>\n",
       "      <td>-2.31</td>\n",
       "      <td>53.57</td>\n",
       "      <td>12.26</td>\n",
       "      <td>100</td>\n",
       "    </tr>\n",
       "  </tbody>\n",
       "</table>\n",
       "</div>"
      ],
      "text/plain": [
       "          City Country    DateTime  Humidity  Temperature  Max. Temp.  \\\n",
       "2  verkhoyansk      RU  1604504452        87       -26.71      -26.71   \n",
       "3      qaanaaq      GL  1604504452        86       -19.18      -19.18   \n",
       "4     yelabuga      RU  1604504453        86         0.00        0.00   \n",
       "5       ankang      CN  1604504453        33        17.78       17.78   \n",
       "6         okha      RU  1604504453        97        -2.31       -2.31   \n",
       "\n",
       "   Latitude  WindSpeed  Cloudiness  \n",
       "2     67.54       0.60          99  \n",
       "3     77.48       0.83          91  \n",
       "4     55.76       4.00          90  \n",
       "5     32.68       0.97         100  \n",
       "6     53.57      12.26         100  "
      ]
     },
     "execution_count": 57,
     "metadata": {},
     "output_type": "execute_result"
    }
   ],
   "source": [
    "# Select data for Northern Hemisphere\n",
    "North_city_data = city_data.loc[(\n",
    "    city_data[\"Latitude\"] > 0)]\n",
    "len(North_city_data)\n",
    "North_city_data.head()\n",
    "\n",
    "# Are the selection of northern and southern hemispheres ok?"
   ]
  },
  {
   "cell_type": "code",
   "execution_count": 72,
   "metadata": {
    "scrolled": true
   },
   "outputs": [
    {
     "data": {
      "text/html": [
       "<div>\n",
       "<style scoped>\n",
       "    .dataframe tbody tr th:only-of-type {\n",
       "        vertical-align: middle;\n",
       "    }\n",
       "\n",
       "    .dataframe tbody tr th {\n",
       "        vertical-align: top;\n",
       "    }\n",
       "\n",
       "    .dataframe thead th {\n",
       "        text-align: right;\n",
       "    }\n",
       "</style>\n",
       "<table border=\"1\" class=\"dataframe\">\n",
       "  <thead>\n",
       "    <tr style=\"text-align: right;\">\n",
       "      <th></th>\n",
       "      <th>City</th>\n",
       "      <th>Country</th>\n",
       "      <th>DateTime</th>\n",
       "      <th>Humidity</th>\n",
       "      <th>Temperature</th>\n",
       "      <th>Max. Temp.</th>\n",
       "      <th>Latitude</th>\n",
       "      <th>WindSpeed</th>\n",
       "      <th>Cloudiness</th>\n",
       "    </tr>\n",
       "  </thead>\n",
       "  <tbody>\n",
       "    <tr>\n",
       "      <th>0</th>\n",
       "      <td>hithadhoo</td>\n",
       "      <td>MV</td>\n",
       "      <td>1604504452</td>\n",
       "      <td>70</td>\n",
       "      <td>28.90</td>\n",
       "      <td>28.90</td>\n",
       "      <td>-0.60</td>\n",
       "      <td>2.66</td>\n",
       "      <td>47</td>\n",
       "    </tr>\n",
       "    <tr>\n",
       "      <th>1</th>\n",
       "      <td>cobija</td>\n",
       "      <td>BO</td>\n",
       "      <td>1604504452</td>\n",
       "      <td>66</td>\n",
       "      <td>30.00</td>\n",
       "      <td>30.00</td>\n",
       "      <td>-11.03</td>\n",
       "      <td>3.10</td>\n",
       "      <td>75</td>\n",
       "    </tr>\n",
       "    <tr>\n",
       "      <th>7</th>\n",
       "      <td>hobart</td>\n",
       "      <td>AU</td>\n",
       "      <td>1604504183</td>\n",
       "      <td>49</td>\n",
       "      <td>8.57</td>\n",
       "      <td>9.00</td>\n",
       "      <td>-42.88</td>\n",
       "      <td>4.60</td>\n",
       "      <td>3</td>\n",
       "    </tr>\n",
       "    <tr>\n",
       "      <th>11</th>\n",
       "      <td>mataura</td>\n",
       "      <td>NZ</td>\n",
       "      <td>1604504454</td>\n",
       "      <td>95</td>\n",
       "      <td>11.67</td>\n",
       "      <td>11.67</td>\n",
       "      <td>-46.19</td>\n",
       "      <td>1.58</td>\n",
       "      <td>9</td>\n",
       "    </tr>\n",
       "    <tr>\n",
       "      <th>13</th>\n",
       "      <td>trindade</td>\n",
       "      <td>BR</td>\n",
       "      <td>1604504454</td>\n",
       "      <td>39</td>\n",
       "      <td>29.00</td>\n",
       "      <td>29.00</td>\n",
       "      <td>-16.65</td>\n",
       "      <td>2.10</td>\n",
       "      <td>40</td>\n",
       "    </tr>\n",
       "  </tbody>\n",
       "</table>\n",
       "</div>"
      ],
      "text/plain": [
       "         City Country    DateTime  Humidity  Temperature  Max. Temp.  \\\n",
       "0   hithadhoo      MV  1604504452        70        28.90       28.90   \n",
       "1      cobija      BO  1604504452        66        30.00       30.00   \n",
       "7      hobart      AU  1604504183        49         8.57        9.00   \n",
       "11    mataura      NZ  1604504454        95        11.67       11.67   \n",
       "13   trindade      BR  1604504454        39        29.00       29.00   \n",
       "\n",
       "    Latitude  WindSpeed  Cloudiness  \n",
       "0      -0.60       2.66          47  \n",
       "1     -11.03       3.10          75  \n",
       "7     -42.88       4.60           3  \n",
       "11    -46.19       1.58           9  \n",
       "13    -16.65       2.10          40  "
      ]
     },
     "execution_count": 72,
     "metadata": {},
     "output_type": "execute_result"
    }
   ],
   "source": [
    "# Select data for Southern Hemisphere\n",
    "South_city_data = city_data.loc[(\n",
    "    city_data[\"Latitude\"] < 0)]\n",
    "len(South_city_data)\n",
    "South_city_data.head()"
   ]
  },
  {
   "cell_type": "markdown",
   "metadata": {},
   "source": [
    "####  Northern Hemisphere - Max Temp vs. Latitude Linear Regression"
   ]
  },
  {
   "cell_type": "code",
   "execution_count": 71,
   "metadata": {
    "scrolled": true
   },
   "outputs": [
    {
     "name": "stdout",
     "output_type": "stream",
     "text": [
      "2      85.999074\n",
      "3      76.737028\n",
      "4      53.145254\n",
      "5      31.275508\n",
      "6      55.986599\n",
      "         ...    \n",
      "566    29.491979\n",
      "567    28.544864\n",
      "568    42.075079\n",
      "569    54.375273\n",
      "570    37.093500\n",
      "Name: Max. Temp., Length: 391, dtype: float64\n"
     ]
    },
    {
     "data": {
      "text/plain": [
       "'y=-1.23x + 53.15'"
      ]
     },
     "execution_count": 71,
     "metadata": {},
     "output_type": "execute_result"
    }
   ],
   "source": [
    "Northmax_temp = North_city_data.iloc[:,5]\n",
    "#print(Northmax_temp)\n",
    "North_lat = North_city_data.iloc[:,6]\n",
    "# print(North_lat)\n",
    "N_slope, N_int, N_r, N_p, N_std_err = linregress(Northmax_temp, North_lat)\n",
    "N_fit = N_slope * Northmax_temp + N_int\n",
    "print(N_fit)\n",
    "\n",
    "North_equation =  f\"y={round(N_slope, 2)}x + {round(N_int,2)}\"\n",
    "North_equation\n",
    "\n",
    "# Do I need to plot these on graphs? Or are the equations sufficient?"
   ]
  },
  {
   "cell_type": "code",
   "execution_count": null,
   "metadata": {},
   "outputs": [],
   "source": []
  },
  {
   "cell_type": "markdown",
   "metadata": {},
   "source": [
    "####  Southern Hemisphere - Max Temp vs. Latitude Linear Regression"
   ]
  },
  {
   "cell_type": "code",
   "execution_count": 101,
   "metadata": {},
   "outputs": [
    {
     "name": "stdout",
     "output_type": "stream",
     "text": [
      "0     -12.936059\n",
      "1     -11.419422\n",
      "7     -40.373404\n",
      "11    -36.692112\n",
      "13    -12.798183\n",
      "         ...    \n",
      "540   -15.927971\n",
      "549   -10.040661\n",
      "557   -26.585794\n",
      "559   -24.352201\n",
      "564   -19.691989\n",
      "Name: Max. Temp., Length: 180, dtype: float64\n"
     ]
    },
    {
     "data": {
      "text/plain": [
       "'y=1.38x + (-52.78)'"
      ]
     },
     "execution_count": 101,
     "metadata": {},
     "output_type": "execute_result"
    }
   ],
   "source": [
    "Southmax_temp = South_city_data.iloc[:,5]\n",
    "# print(Southmax_temp)\n",
    "South_lat = South_city_data.iloc[:,6]\n",
    "# print(South_lat)\n",
    "S_slope, S_int, S_r, S_p, S_std_err = linregress(Southmax_temp, South_lat)\n",
    "S_fit = S_slope * Southmax_temp + S_int\n",
    "print(S_fit)\n",
    "\n",
    "South_equation =  f\"y={round(S_slope, 2)}x + ({round(S_int,2)})\"\n",
    "South_equation"
   ]
  },
  {
   "cell_type": "code",
   "execution_count": null,
   "metadata": {},
   "outputs": [],
   "source": []
  },
  {
   "cell_type": "markdown",
   "metadata": {},
   "source": [
    "####  Northern Hemisphere - Humidity (%) vs. Latitude Linear Regression"
   ]
  },
  {
   "cell_type": "code",
   "execution_count": 82,
   "metadata": {},
   "outputs": [
    {
     "name": "stdout",
     "output_type": "stream",
     "text": [
      "2      44.398646\n",
      "3      44.039338\n",
      "4      44.039338\n",
      "5      24.996008\n",
      "6      47.991727\n",
      "         ...    \n",
      "566    26.792549\n",
      "567    42.602106\n",
      "568    38.290408\n",
      "569    41.883489\n",
      "570    32.541478\n",
      "Name: Humidity, Length: 391, dtype: float64\n"
     ]
    },
    {
     "data": {
      "text/plain": [
       "'y=0.36x + 13.14'"
      ]
     },
     "execution_count": 82,
     "metadata": {},
     "output_type": "execute_result"
    }
   ],
   "source": [
    "North_city_data.head()\n",
    "North_humidity = North_city_data.iloc[:,3]\n",
    "#print(North_humidity)\n",
    "North_lat = North_city_data.iloc[:,6]\n",
    "# print(North_lat)\n",
    "NHL_slope, NHL_int, NHL_r, NHL_p, NHL_std_err = linregress(North_humidity, North_lat)\n",
    "NHL_fit = NHL_slope * North_humidity + NHL_int\n",
    "print(NHL_fit)\n",
    "\n",
    "NorthHL_equation =  f\"y={round(NHL_slope, 2)}x + {round(NHL_int,2)}\"\n",
    "NorthHL_equation"
   ]
  },
  {
   "cell_type": "code",
   "execution_count": null,
   "metadata": {},
   "outputs": [],
   "source": []
  },
  {
   "cell_type": "markdown",
   "metadata": {},
   "source": [
    "####  Southern Hemisphere - Humidity (%) vs. Latitude Linear Regression"
   ]
  },
  {
   "cell_type": "code",
   "execution_count": 100,
   "metadata": {},
   "outputs": [
    {
     "name": "stdout",
     "output_type": "stream",
     "text": [
      "0     -20.700996\n",
      "1     -20.902611\n",
      "7     -21.759473\n",
      "11    -19.440904\n",
      "13    -22.263510\n",
      "         ...    \n",
      "540   -20.045748\n",
      "549   -21.457051\n",
      "557   -19.541712\n",
      "559   -20.549785\n",
      "564   -21.356244\n",
      "Name: Humidity, Length: 180, dtype: float64\n"
     ]
    },
    {
     "data": {
      "text/plain": [
       "'y=0.05x + (-24.23)'"
      ]
     },
     "execution_count": 100,
     "metadata": {},
     "output_type": "execute_result"
    }
   ],
   "source": [
    "South_city_data.head()\n",
    "South_humidity = South_city_data.iloc[:,3]\n",
    "# print(South_humidity)\n",
    "South_lat = South_city_data.iloc[:,6]\n",
    "# print(South_lat)\n",
    "SHL_slope, SHL_int, SHL_r, SHL_p, SHL_std_err = linregress(South_humidity, South_lat)\n",
    "SHL_fit = SHL_slope * South_humidity + SHL_int\n",
    "print(SHL_fit)\n",
    "\n",
    "SouthHL_equation =  f\"y={round(SHL_slope, 2)}x + ({round(SHL_int,2)})\"\n",
    "SouthHL_equation"
   ]
  },
  {
   "cell_type": "code",
   "execution_count": null,
   "metadata": {},
   "outputs": [],
   "source": []
  },
  {
   "cell_type": "markdown",
   "metadata": {},
   "source": [
    "####  Northern Hemisphere - Cloudiness (%) vs. Latitude Linear Regression"
   ]
  },
  {
   "cell_type": "code",
   "execution_count": 88,
   "metadata": {},
   "outputs": [
    {
     "name": "stdout",
     "output_type": "stream",
     "text": [
      "2      44.574843\n",
      "3      43.668115\n",
      "4      43.554774\n",
      "5      44.688184\n",
      "6      44.688184\n",
      "         ...    \n",
      "566    41.061273\n",
      "567    41.854659\n",
      "568    33.467428\n",
      "569    38.001067\n",
      "570    39.587840\n",
      "Name: Cloudiness, Length: 391, dtype: float64\n"
     ]
    },
    {
     "data": {
      "text/plain": [
       "'y=0.11x + 33.35'"
      ]
     },
     "execution_count": 88,
     "metadata": {},
     "output_type": "execute_result"
    }
   ],
   "source": [
    "North_city_data.head()\n",
    "North_cloud = North_city_data.iloc[:,8]\n",
    "#print(North_cloud)\n",
    "North_lat = North_city_data.iloc[:,6]\n",
    "# print(North_lat)\n",
    "NCL_slope, NCL_int, NCL_r, NCL_p, NCL_std_err = linregress(North_cloud, North_lat)\n",
    "NCL_fit = NCL_slope * North_cloud + NCL_int\n",
    "print(NCL_fit)\n",
    "\n",
    "NorthCL_equation =  f\"y={round(NCL_slope, 2)}x + {round(NCL_int,2)}\"\n",
    "NorthCL_equation"
   ]
  },
  {
   "cell_type": "code",
   "execution_count": null,
   "metadata": {},
   "outputs": [],
   "source": []
  },
  {
   "cell_type": "markdown",
   "metadata": {},
   "source": [
    "####  Southern Hemisphere - Cloudiness (%) vs. Latitude Linear Regression"
   ]
  },
  {
   "cell_type": "code",
   "execution_count": 99,
   "metadata": {},
   "outputs": [
    {
     "name": "stdout",
     "output_type": "stream",
     "text": [
      "0     -21.373995\n",
      "1     -19.909795\n",
      "7     -23.674881\n",
      "11    -23.361123\n",
      "13    -21.740045\n",
      "         ...    \n",
      "540   -21.112531\n",
      "549   -21.740045\n",
      "557   -19.909795\n",
      "559   -19.386867\n",
      "564   -23.831759\n",
      "Name: Cloudiness, Length: 180, dtype: float64\n"
     ]
    },
    {
     "data": {
      "text/plain": [
       "'y=0.05x + (-23.83)'"
      ]
     },
     "execution_count": 99,
     "metadata": {},
     "output_type": "execute_result"
    }
   ],
   "source": [
    "South_city_data.head()\n",
    "South_cloud = South_city_data.iloc[:,8]\n",
    "# print(South_cloud)\n",
    "South_lat = South_city_data.iloc[:,6]\n",
    "# print(South_lat)\n",
    "SCL_slope, SCL_int, SCL_r, SCL_p, SCL_std_err = linregress(South_cloud, South_lat)\n",
    "SCL_fit = SCL_slope * South_cloud + SCL_int\n",
    "print(SCL_fit)\n",
    "\n",
    "SouthCL_equation =  f\"y={round(SCL_slope, 2)}x + ({round(SCL_int,2)})\"\n",
    "SouthCL_equation"
   ]
  },
  {
   "cell_type": "code",
   "execution_count": null,
   "metadata": {},
   "outputs": [],
   "source": []
  },
  {
   "cell_type": "markdown",
   "metadata": {},
   "source": [
    "####  Northern Hemisphere - Wind Speed (mph) vs. Latitude Linear Regression"
   ]
  },
  {
   "cell_type": "code",
   "execution_count": 94,
   "metadata": {},
   "outputs": [
    {
     "name": "stdout",
     "output_type": "stream",
     "text": [
      "2      32.920984\n",
      "3      33.368705\n",
      "4      39.539471\n",
      "5      33.641231\n",
      "6      55.618503\n",
      "         ...    \n",
      "566    37.729120\n",
      "567    48.688557\n",
      "568    35.840905\n",
      "569    36.814212\n",
      "570    43.043376\n",
      "Name: WindSpeed, Length: 391, dtype: float64\n"
     ]
    },
    {
     "data": {
      "text/plain": [
       "'y=1.95x + 31.75'"
      ]
     },
     "execution_count": 94,
     "metadata": {},
     "output_type": "execute_result"
    }
   ],
   "source": [
    "North_city_data.head()\n",
    "North_windspeed = North_city_data.iloc[:,7]\n",
    "#print(North_windspeed)\n",
    "North_lat = North_city_data.iloc[:,6]\n",
    "# print(North_lat)\n",
    "NWL_slope, NWL_int, NWL_r, NWL_p, NWL_std_err = linregress(North_windspeed, North_lat)\n",
    "NWL_fit = NWL_slope * North_windspeed + NWL_int\n",
    "print(NWL_fit)\n",
    "\n",
    "NorthWL_equation =  f\"y={round(NWL_slope, 2)}x + {round(NWL_int,2)}\"\n",
    "NorthWL_equation"
   ]
  },
  {
   "cell_type": "code",
   "execution_count": null,
   "metadata": {},
   "outputs": [],
   "source": []
  },
  {
   "cell_type": "markdown",
   "metadata": {},
   "source": [
    "####  Southern Hemisphere - Wind Speed (mph) vs. Latitude Linear Regression"
   ]
  },
  {
   "cell_type": "code",
   "execution_count": 98,
   "metadata": {},
   "outputs": [
    {
     "name": "stdout",
     "output_type": "stream",
     "text": [
      "0     -19.506392\n",
      "1     -20.040598\n",
      "7     -21.861752\n",
      "11    -18.195161\n",
      "13    -18.826494\n",
      "         ...    \n",
      "540   -18.790071\n",
      "549   -24.411369\n",
      "557   -24.411369\n",
      "559   -16.956775\n",
      "564   -26.232524\n",
      "Name: WindSpeed, Length: 180, dtype: float64\n"
     ]
    },
    {
     "data": {
      "text/plain": [
       "'y=-1.21x + (-16.28)'"
      ]
     },
     "execution_count": 98,
     "metadata": {},
     "output_type": "execute_result"
    }
   ],
   "source": [
    "South_city_data.head()\n",
    "South_windspeed = South_city_data.iloc[:,7]\n",
    "#print(South_windspeed)\n",
    "South_lat = South_city_data.iloc[:,6]\n",
    "# print(South_lat)\n",
    "SWL_slope, SWL_int, SWL_r, SWL_p, SWL_std_err = linregress(South_windspeed, South_lat)\n",
    "SWL_fit = SWL_slope * South_windspeed + SWL_int\n",
    "print(SWL_fit)\n",
    "\n",
    "SouthWL_equation =  f\"y={round(SWL_slope, 2)}x + ({round(SWL_int,2)})\"\n",
    "SouthWL_equation"
   ]
  },
  {
   "cell_type": "code",
   "execution_count": null,
   "metadata": {},
   "outputs": [],
   "source": []
  }
 ],
 "metadata": {
  "anaconda-cloud": {},
  "kernel_info": {
   "name": "python3"
  },
  "kernelspec": {
   "display_name": "Python 3",
   "language": "python",
   "name": "python3"
  },
  "language_info": {
   "codemirror_mode": {
    "name": "ipython",
    "version": 3
   },
   "file_extension": ".py",
   "mimetype": "text/x-python",
   "name": "python",
   "nbconvert_exporter": "python",
   "pygments_lexer": "ipython3",
   "version": "3.8.3"
  },
  "latex_envs": {
   "LaTeX_envs_menu_present": true,
   "autoclose": false,
   "autocomplete": true,
   "bibliofile": "biblio.bib",
   "cite_by": "apalike",
   "current_citInitial": 1,
   "eqLabelWithNumbers": true,
   "eqNumInitial": 1,
   "hotkeys": {
    "equation": "Ctrl-E",
    "itemize": "Ctrl-I"
   },
   "labels_anchors": false,
   "latex_user_defs": false,
   "report_style_numbering": false,
   "user_envs_cfg": false
  },
  "nteract": {
   "version": "0.12.3"
  }
 },
 "nbformat": 4,
 "nbformat_minor": 2
}
